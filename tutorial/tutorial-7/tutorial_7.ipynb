{
 "cells": [
  {
   "cell_type": "markdown",
   "metadata": {},
   "source": [
    "---\n",
    "title: \"Topics in Econometrics and Data Science: Tutorial 7\"\n",
    "\n",
    "---\n",
    "\n",
    "#### General Note\n",
    "\n",
    "You will very likely find the solution to these exercises online. We, however, strongly encourage you to work on these exercises without doing so. Understanding someone else’s solution is very different from coming up with your own. Use the lecture notes and try to solve the exercises independently."
   ]
  },
  {
   "cell_type": "markdown",
   "metadata": {},
   "source": [
    "# Section 2: Linear Regression"
   ]
  },
  {
   "cell_type": "markdown",
   "metadata": {},
   "source": [
    "## Exercise 1: Linear Regression: Prediction\n",
    "\n",
    "We consider a regression problem where we want to predict our dependent variable $Y$ in terms of the explanatory variable $X$. In this exercise we try to create an optimal prediction of $Y$ given $X$.\n",
    "\n",
    "### A)\n",
    "\n",
    "1. Load the [`prediction.csv`](https://alexandragibbon.github.io/StatProg-HHU/data/prediction.csv) data set and assess its structure. \\\n",
    "\\\n",
    "**Hint**: You can use [`pandas.DataFrame.shape`](https://pandas.pydata.org/docs/reference/api/pandas.DataFrame.shape.html) to assess the structure of the data set."
   ]
  },
  {
   "cell_type": "code",
   "execution_count": 4,
   "metadata": {},
   "outputs": [],
   "source": [
    "import numpy as np\n",
    "import pandas as pd\n",
    "import matplotlib.pyplot as plt\n",
    "import os"
   ]
  },
  {
   "cell_type": "code",
   "execution_count": null,
   "metadata": {},
   "outputs": [
    {
     "data": {
      "text/html": [
       "<div>\n",
       "<style scoped>\n",
       "    .dataframe tbody tr th:only-of-type {\n",
       "        vertical-align: middle;\n",
       "    }\n",
       "\n",
       "    .dataframe tbody tr th {\n",
       "        vertical-align: top;\n",
       "    }\n",
       "\n",
       "    .dataframe thead th {\n",
       "        text-align: right;\n",
       "    }\n",
       "</style>\n",
       "<table border=\"1\" class=\"dataframe\">\n",
       "  <thead>\n",
       "    <tr style=\"text-align: right;\">\n",
       "      <th></th>\n",
       "      <th>x</th>\n",
       "      <th>y</th>\n",
       "    </tr>\n",
       "  </thead>\n",
       "  <tbody>\n",
       "    <tr>\n",
       "      <th>0</th>\n",
       "      <td>1.047198</td>\n",
       "      <td>9.242999</td>\n",
       "    </tr>\n",
       "    <tr>\n",
       "      <th>1</th>\n",
       "      <td>1.186824</td>\n",
       "      <td>6.861050</td>\n",
       "    </tr>\n",
       "    <tr>\n",
       "      <th>2</th>\n",
       "      <td>1.326450</td>\n",
       "      <td>-2.258883</td>\n",
       "    </tr>\n",
       "    <tr>\n",
       "      <th>3</th>\n",
       "      <td>1.466077</td>\n",
       "      <td>3.645338</td>\n",
       "    </tr>\n",
       "    <tr>\n",
       "      <th>4</th>\n",
       "      <td>1.605703</td>\n",
       "      <td>5.755031</td>\n",
       "    </tr>\n",
       "  </tbody>\n",
       "</table>\n",
       "</div>"
      ],
      "text/plain": [
       "          x         y\n",
       "0  1.047198  9.242999\n",
       "1  1.186824  6.861050\n",
       "2  1.326450 -2.258883\n",
       "3  1.466077  3.645338\n",
       "4  1.605703  5.755031"
      ]
     },
     "execution_count": 2,
     "metadata": {},
     "output_type": "execute_result"
    }
   ],
   "source": [
    "os.chdir(\"[INSERT YOUR PATH HERE!]\")\n",
    "\n",
    "data = pd.read_csv('data/prediction.csv', sep=',', na_values=\".\")\n",
    "data.head()"
   ]
  },
  {
   "cell_type": "code",
   "execution_count": null,
   "metadata": {},
   "outputs": [],
   "source": []
  },
  {
   "cell_type": "markdown",
   "metadata": {},
   "source": [
    "2. Generate a scatter plot of the $Y$ values against the $X$ values using [`plt.figure`](https://matplotlib.org/stable/api/_as_gen/matplotlib.pyplot.figure.html)."
   ]
  },
  {
   "cell_type": "code",
   "execution_count": null,
   "metadata": {},
   "outputs": [],
   "source": []
  },
  {
   "cell_type": "markdown",
   "metadata": {},
   "source": [
    "### B)\n",
    "\n",
    "Now, we want to run a linear regression using the [`sklearn`](https://scikit-learn.org/stable/) package and add the regression line to the scatter plot. Then, we compute the in-sample Means Squared Error (MSE) in prediction. \\\n",
    "\\\n",
    "**Hint:** *in-sample* means that we estimate the model and evaluate its performance using the same data."
   ]
  },
  {
   "cell_type": "markdown",
   "metadata": {},
   "source": [
    "1. To solve this task, first, save `x` and `y` in two separate data frames using [`pd.DataFrame`](https://pandas.pydata.org/docs/reference/api/pandas.DataFrame.html)."
   ]
  },
  {
   "cell_type": "code",
   "execution_count": null,
   "metadata": {},
   "outputs": [],
   "source": []
  },
  {
   "cell_type": "markdown",
   "metadata": {},
   "source": [
    "2. Run a linear regression using [`sklearn.linear_model.LinearRegression`](https://scikit-learn.org/dev/modules/generated/sklearn.linear_model.LinearRegression.html). \\\n",
    "\\\n",
    "**Hint**: First, fit the linear model (`sklearn.linear_model.LinearRegression.fit`) using the entire data set ($X$ and $Y$). Then, use the estimated/fitted linear model to predict $Y$ (`sklearn.linear_model.LinearRegression.predict`) based on the same $X$ data that was used to estimate/fit the model. "
   ]
  },
  {
   "cell_type": "code",
   "execution_count": 1,
   "metadata": {},
   "outputs": [],
   "source": [
    "from sklearn.linear_model import LinearRegression\n",
    "linmod = LinearRegression()"
   ]
  },
  {
   "cell_type": "markdown",
   "metadata": {},
   "source": [
    "3. Add the regression line to the scatter plot created in part A."
   ]
  },
  {
   "cell_type": "code",
   "execution_count": null,
   "metadata": {},
   "outputs": [],
   "source": []
  },
  {
   "cell_type": "markdown",
   "metadata": {},
   "source": [
    "4. Compute the in-sample MSE in prediction."
   ]
  },
  {
   "cell_type": "code",
   "execution_count": null,
   "metadata": {},
   "outputs": [],
   "source": []
  },
  {
   "cell_type": "markdown",
   "metadata": {},
   "source": [
    "### C)\n",
    "\n",
    "In part C, we evaluate how well the model estimated in part B predicts the new observations provided in the data set `predictiontest.csv`. Compute the out-of-sample MSE in prediction and illustrate your results in the scatter plot. \\\n",
    "\\\n",
    "**Hint:** *out-of-sample* means that the model is estimated using one data set and its performance is evaluated on a different data set."
   ]
  },
  {
   "cell_type": "markdown",
   "metadata": {},
   "source": [
    "Load the [`predictiontest.csv`](https://alexandragibbon.github.io/StatProg-HHU/data/predictiontest.csv) data set:"
   ]
  },
  {
   "cell_type": "code",
   "execution_count": null,
   "metadata": {},
   "outputs": [
    {
     "data": {
      "text/html": [
       "<div>\n",
       "<style scoped>\n",
       "    .dataframe tbody tr th:only-of-type {\n",
       "        vertical-align: middle;\n",
       "    }\n",
       "\n",
       "    .dataframe tbody tr th {\n",
       "        vertical-align: top;\n",
       "    }\n",
       "\n",
       "    .dataframe thead th {\n",
       "        text-align: right;\n",
       "    }\n",
       "</style>\n",
       "<table border=\"1\" class=\"dataframe\">\n",
       "  <thead>\n",
       "    <tr style=\"text-align: right;\">\n",
       "      <th></th>\n",
       "      <th>xtest</th>\n",
       "      <th>ytest</th>\n",
       "    </tr>\n",
       "  </thead>\n",
       "  <tbody>\n",
       "    <tr>\n",
       "      <th>0</th>\n",
       "      <td>1.047198</td>\n",
       "      <td>5.808596</td>\n",
       "    </tr>\n",
       "    <tr>\n",
       "      <th>1</th>\n",
       "      <td>1.186824</td>\n",
       "      <td>1.274230</td>\n",
       "    </tr>\n",
       "    <tr>\n",
       "      <th>2</th>\n",
       "      <td>1.326450</td>\n",
       "      <td>4.892476</td>\n",
       "    </tr>\n",
       "    <tr>\n",
       "      <th>3</th>\n",
       "      <td>1.466077</td>\n",
       "      <td>-3.124069</td>\n",
       "    </tr>\n",
       "    <tr>\n",
       "      <th>4</th>\n",
       "      <td>1.605703</td>\n",
       "      <td>6.282259</td>\n",
       "    </tr>\n",
       "  </tbody>\n",
       "</table>\n",
       "</div>"
      ],
      "text/plain": [
       "      xtest     ytest\n",
       "0  1.047198  5.808596\n",
       "1  1.186824  1.274230\n",
       "2  1.326450  4.892476\n",
       "3  1.466077 -3.124069\n",
       "4  1.605703  6.282259"
      ]
     },
     "execution_count": 5,
     "metadata": {},
     "output_type": "execute_result"
    }
   ],
   "source": [
    "os.chdir(\"[INSERT YOUR PATH HERE!]\")\n",
    "\n",
    "datatest = pd.read_csv('data/predictiontest.csv', sep=',', na_values=\".\")\n",
    "datatest.head()"
   ]
  },
  {
   "cell_type": "code",
   "execution_count": null,
   "metadata": {},
   "outputs": [
    {
     "data": {
      "text/plain": [
       "(49, 2)"
      ]
     },
     "execution_count": 10,
     "metadata": {},
     "output_type": "execute_result"
    }
   ],
   "source": [
    "datatest.shape"
   ]
  },
  {
   "cell_type": "markdown",
   "metadata": {},
   "source": [
    "1. First, rename the columns of `datatest` to `x` and `y` using [`pandas.DataFrame.rename`](https://pandas.pydata.org/docs/reference/api/pandas.DataFrame.rename.html#pandas-dataframe-rename)."
   ]
  },
  {
   "cell_type": "code",
   "execution_count": null,
   "metadata": {},
   "outputs": [],
   "source": []
  },
  {
   "cell_type": "markdown",
   "metadata": {},
   "source": [
    "2. Save the columns `x` and `y` in two separate data frames using [`pd.DataFrame`](https://pandas.pydata.org/docs/reference/api/pandas.DataFrame.html) and name them, e.g., `xtest` and `ytest`."
   ]
  },
  {
   "cell_type": "code",
   "execution_count": null,
   "metadata": {},
   "outputs": [],
   "source": []
  },
  {
   "cell_type": "markdown",
   "metadata": {},
   "source": [
    "3. Then, generate out-of-sample predictions. For this, use the estimated model from part B and predict the new observations provided in `predictiontest.csv`. \\\n",
    "\\\n",
    "**Hint:** Use `sklearn.linear_model.LinearRegression.predict`."
   ]
  },
  {
   "cell_type": "code",
   "execution_count": null,
   "metadata": {},
   "outputs": [],
   "source": []
  },
  {
   "cell_type": "markdown",
   "metadata": {},
   "source": [
    "4. Create a scatter plot showing the test data and the predicted values."
   ]
  },
  {
   "cell_type": "code",
   "execution_count": null,
   "metadata": {
    "scrolled": true
   },
   "outputs": [],
   "source": []
  },
  {
   "cell_type": "markdown",
   "metadata": {},
   "source": [
    "5. Compute the out-of-sample MSE in prediction."
   ]
  },
  {
   "cell_type": "code",
   "execution_count": null,
   "metadata": {},
   "outputs": [],
   "source": []
  },
  {
   "cell_type": "markdown",
   "metadata": {},
   "source": [
    "### D) \n",
    "\n",
    "In part D, we try to improve the predictive performance by including high-order polynomials of the variable $X$ in our regression. Then, we add the predictions from the polynomial model to the scatter plot. \\\n",
    "Do this for both the in-sample predictions and and the out-of-sample predictions."
   ]
  },
  {
   "cell_type": "markdown",
   "metadata": {},
   "source": [
    "1. Transform `x` into polynomial features of, e.g., degree $q=5$ using [`sklearn.preprocessing.PolynomialFeatures`](https://scikit-learn.org/0.18/modules/generated/sklearn.preprocessing.PolynomialFeatures.html) and its method `fit_transform`."
   ]
  },
  {
   "cell_type": "code",
   "execution_count": null,
   "metadata": {},
   "outputs": [],
   "source": [
    "from sklearn.preprocessing import PolynomialFeatures"
   ]
  },
  {
   "cell_type": "markdown",
   "metadata": {},
   "source": [
    "2. Convert your transformed `x` into a data frame using `pandas.DataFrame` and display the first few rows of the transformed data."
   ]
  },
  {
   "cell_type": "code",
   "execution_count": null,
   "metadata": {},
   "outputs": [],
   "source": []
  },
  {
   "cell_type": "markdown",
   "metadata": {},
   "source": [
    "3. Then, estimate/fit the model based on your transformed `x` data and `y`."
   ]
  },
  {
   "cell_type": "code",
   "execution_count": null,
   "metadata": {},
   "outputs": [],
   "source": []
  },
  {
   "cell_type": "markdown",
   "metadata": {},
   "source": [
    "4. Generate the in-sample and out-of-sample predictions. \\\n",
    "\\\n",
    "**Hint:** Before you can generate the out-of-sample predictions, you need to generate transformations (i.e. high-order polynomials) for the x-values (`xtest`) of the test sample."
   ]
  },
  {
   "cell_type": "code",
   "execution_count": null,
   "metadata": {},
   "outputs": [],
   "source": []
  },
  {
   "cell_type": "markdown",
   "metadata": {},
   "source": [
    "5. Compute the in-sample and out-of-sample MSE."
   ]
  },
  {
   "cell_type": "code",
   "execution_count": null,
   "metadata": {},
   "outputs": [],
   "source": []
  },
  {
   "cell_type": "markdown",
   "metadata": {},
   "source": [
    "6. Add the predictions from the polynomial model to the scatter plot. For this, create two scatter plots: one for the in-sample predictions and one for the out-of-sample predictions. \\\n",
    "\\\n",
    "**Hint:** The first scatter plot shows the train data (based on the data set `prediction.csv`), the in-sample predicted values of the linear model of task B and the in-sample predicted values of the polynomial model. The second scatter plot shows the test data (based on the data set `predictiontest.csv`), the out-of sample predicted values of the linear model of task C and the out-of-sample predicted values of the polynomial model."
   ]
  },
  {
   "cell_type": "code",
   "execution_count": null,
   "metadata": {
    "scrolled": true
   },
   "outputs": [],
   "source": []
  },
  {
   "cell_type": "markdown",
   "metadata": {},
   "source": [
    "### E)\n",
    "\n",
    "Increase the polynomial order in your approximation of the regression curve and see how the in-sample and out-of-sample MSE behave."
   ]
  },
  {
   "cell_type": "code",
   "execution_count": null,
   "metadata": {},
   "outputs": [],
   "source": []
  },
  {
   "cell_type": "markdown",
   "metadata": {},
   "source": [
    "### F)\n",
    "\n",
    "In task F, generate a plot of the in-sample and out-of-sample MSE depending on the order of the polynomial, $q$, in the regression function."
   ]
  },
  {
   "cell_type": "markdown",
   "metadata": {},
   "source": [
    "1. First, you need to write a for-loop that iterates over different values of degree $q$ to generate the in-sample and out-of-sample predictions and calculate the in-sample MSE and out-of-sample MSE. Include the following steps in your for-loop: \\\n",
    "\\\n",
    "i. For each value of $q$, generate polynomial features of degree $q$ for both the training data (`x`) and test data (`xtest`). \\\n",
    "ii. Estimate/fit a polynomial model using the polynomial features of degree $q$ on the training data (transformed `x` and `y`). \\\n",
    "iii. Make in-sample and out-of-sample predictions. \\\n",
    "iv. For each value of $q$, compute the in-sample MSE and the out-of-sample MSE."
   ]
  },
  {
   "cell_type": "code",
   "execution_count": 6,
   "metadata": {},
   "outputs": [],
   "source": [
    "q = np.arange(1,12,1)\n",
    "MSE_ins = np.zeros(len(q))\n",
    "MSE_oos = np.zeros(len(q))"
   ]
  },
  {
   "cell_type": "markdown",
   "metadata": {},
   "source": [
    "2. Finally, generate the plot."
   ]
  },
  {
   "cell_type": "code",
   "execution_count": null,
   "metadata": {
    "scrolled": true
   },
   "outputs": [],
   "source": []
  },
  {
   "cell_type": "markdown",
   "metadata": {},
   "source": [
    "## Exercise 2: Linear Regression: Inference I - Case Study Oregon Health Experiment\n",
    "\n",
    "In this problem, we analyze a random subset from the Oregon Health Experiment Data ([`Oregon.csv`](https://alexandragibbon.github.io/StatProg-HHU/data/Oregon.csv)). In this large-scale experiment, access to Medicaid (U.S. public health insurance) was provided randomly in a lottery. More information can be found [here](http://www.nber.org/oregon/1.home.html). The problem set is based on the published study by Finkelstein et al. (2012, Quarterly Journal of Economics). \n",
    "\n",
    "Load the data and create a pandas data frame."
   ]
  },
  {
   "cell_type": "code",
   "execution_count": 30,
   "metadata": {},
   "outputs": [],
   "source": [
    "import pandas as pd\n",
    "import numpy as np\n",
    "import matplotlib.pyplot as plt\n",
    "import os"
   ]
  },
  {
   "cell_type": "code",
   "execution_count": null,
   "metadata": {},
   "outputs": [
    {
     "data": {
      "text/html": [
       "<div>\n",
       "<style scoped>\n",
       "    .dataframe tbody tr th:only-of-type {\n",
       "        vertical-align: middle;\n",
       "    }\n",
       "\n",
       "    .dataframe tbody tr th {\n",
       "        vertical-align: top;\n",
       "    }\n",
       "\n",
       "    .dataframe thead th {\n",
       "        text-align: right;\n",
       "    }\n",
       "</style>\n",
       "<table border=\"1\" class=\"dataframe\">\n",
       "  <thead>\n",
       "    <tr style=\"text-align: right;\">\n",
       "      <th></th>\n",
       "      <th>household_id</th>\n",
       "      <th>treatment</th>\n",
       "      <th>english_list</th>\n",
       "      <th>female_list</th>\n",
       "      <th>zip_msa</th>\n",
       "      <th>weight_12m</th>\n",
       "      <th>docvis</th>\n",
       "      <th>hhinc_pctfpl_12m</th>\n",
       "      <th>race_hisp_12m</th>\n",
       "      <th>race_white_12m</th>\n",
       "      <th>...</th>\n",
       "      <th>ddddraXnum_3_3</th>\n",
       "      <th>ddddraXnum_4_2</th>\n",
       "      <th>ddddraXnum_5_2</th>\n",
       "      <th>ddddraXnum_6_2</th>\n",
       "      <th>ddddraXnum_7_2</th>\n",
       "      <th>edu_12m_2</th>\n",
       "      <th>edu_12m_3</th>\n",
       "      <th>edu_12m_4</th>\n",
       "      <th>age2008</th>\n",
       "      <th>chronicdis</th>\n",
       "    </tr>\n",
       "  </thead>\n",
       "  <tbody>\n",
       "    <tr>\n",
       "      <th>0</th>\n",
       "      <td>100002</td>\n",
       "      <td>1</td>\n",
       "      <td>1</td>\n",
       "      <td>1</td>\n",
       "      <td>1</td>\n",
       "      <td>1.0</td>\n",
       "      <td>0</td>\n",
       "      <td>60.054909</td>\n",
       "      <td>0</td>\n",
       "      <td>1</td>\n",
       "      <td>...</td>\n",
       "      <td>0</td>\n",
       "      <td>0</td>\n",
       "      <td>0</td>\n",
       "      <td>0</td>\n",
       "      <td>0</td>\n",
       "      <td>1</td>\n",
       "      <td>0</td>\n",
       "      <td>0</td>\n",
       "      <td>24</td>\n",
       "      <td>0</td>\n",
       "    </tr>\n",
       "    <tr>\n",
       "      <th>1</th>\n",
       "      <td>100005</td>\n",
       "      <td>1</td>\n",
       "      <td>0</td>\n",
       "      <td>1</td>\n",
       "      <td>1</td>\n",
       "      <td>1.0</td>\n",
       "      <td>0</td>\n",
       "      <td>129.710540</td>\n",
       "      <td>1</td>\n",
       "      <td>0</td>\n",
       "      <td>...</td>\n",
       "      <td>0</td>\n",
       "      <td>0</td>\n",
       "      <td>0</td>\n",
       "      <td>0</td>\n",
       "      <td>0</td>\n",
       "      <td>1</td>\n",
       "      <td>0</td>\n",
       "      <td>0</td>\n",
       "      <td>39</td>\n",
       "      <td>1</td>\n",
       "    </tr>\n",
       "    <tr>\n",
       "      <th>2</th>\n",
       "      <td>100006</td>\n",
       "      <td>1</td>\n",
       "      <td>1</td>\n",
       "      <td>0</td>\n",
       "      <td>1</td>\n",
       "      <td>1.0</td>\n",
       "      <td>1</td>\n",
       "      <td>34.134354</td>\n",
       "      <td>0</td>\n",
       "      <td>1</td>\n",
       "      <td>...</td>\n",
       "      <td>0</td>\n",
       "      <td>0</td>\n",
       "      <td>0</td>\n",
       "      <td>0</td>\n",
       "      <td>0</td>\n",
       "      <td>0</td>\n",
       "      <td>0</td>\n",
       "      <td>1</td>\n",
       "      <td>62</td>\n",
       "      <td>3</td>\n",
       "    </tr>\n",
       "    <tr>\n",
       "      <th>3</th>\n",
       "      <td>100009</td>\n",
       "      <td>0</td>\n",
       "      <td>1</td>\n",
       "      <td>1</td>\n",
       "      <td>1</td>\n",
       "      <td>1.0</td>\n",
       "      <td>1</td>\n",
       "      <td>47.788094</td>\n",
       "      <td>0</td>\n",
       "      <td>1</td>\n",
       "      <td>...</td>\n",
       "      <td>0</td>\n",
       "      <td>0</td>\n",
       "      <td>0</td>\n",
       "      <td>0</td>\n",
       "      <td>0</td>\n",
       "      <td>1</td>\n",
       "      <td>0</td>\n",
       "      <td>0</td>\n",
       "      <td>31</td>\n",
       "      <td>0</td>\n",
       "    </tr>\n",
       "    <tr>\n",
       "      <th>4</th>\n",
       "      <td>100013</td>\n",
       "      <td>1</td>\n",
       "      <td>1</td>\n",
       "      <td>0</td>\n",
       "      <td>0</td>\n",
       "      <td>1.0</td>\n",
       "      <td>10</td>\n",
       "      <td>11.542013</td>\n",
       "      <td>0</td>\n",
       "      <td>1</td>\n",
       "      <td>...</td>\n",
       "      <td>0</td>\n",
       "      <td>0</td>\n",
       "      <td>0</td>\n",
       "      <td>0</td>\n",
       "      <td>0</td>\n",
       "      <td>1</td>\n",
       "      <td>0</td>\n",
       "      <td>0</td>\n",
       "      <td>45</td>\n",
       "      <td>2</td>\n",
       "    </tr>\n",
       "  </tbody>\n",
       "</table>\n",
       "<p>5 rows × 32 columns</p>\n",
       "</div>"
      ],
      "text/plain": [
       "   household_id  treatment  english_list  female_list  zip_msa  weight_12m  \\\n",
       "0        100002          1             1            1        1         1.0   \n",
       "1        100005          1             0            1        1         1.0   \n",
       "2        100006          1             1            0        1         1.0   \n",
       "3        100009          0             1            1        1         1.0   \n",
       "4        100013          1             1            0        0         1.0   \n",
       "\n",
       "   docvis  hhinc_pctfpl_12m  race_hisp_12m  race_white_12m  ...  \\\n",
       "0       0         60.054909              0               1  ...   \n",
       "1       0        129.710540              1               0  ...   \n",
       "2       1         34.134354              0               1  ...   \n",
       "3       1         47.788094              0               1  ...   \n",
       "4      10         11.542013              0               1  ...   \n",
       "\n",
       "   ddddraXnum_3_3  ddddraXnum_4_2  ddddraXnum_5_2  ddddraXnum_6_2  \\\n",
       "0               0               0               0               0   \n",
       "1               0               0               0               0   \n",
       "2               0               0               0               0   \n",
       "3               0               0               0               0   \n",
       "4               0               0               0               0   \n",
       "\n",
       "   ddddraXnum_7_2  edu_12m_2  edu_12m_3  edu_12m_4  age2008  chronicdis  \n",
       "0               0          1          0          0       24           0  \n",
       "1               0          1          0          0       39           1  \n",
       "2               0          0          0          1       62           3  \n",
       "3               0          1          0          0       31           0  \n",
       "4               0          1          0          0       45           2  \n",
       "\n",
       "[5 rows x 32 columns]"
      ]
     },
     "execution_count": 31,
     "metadata": {},
     "output_type": "execute_result"
    }
   ],
   "source": [
    "os.chdir(\"[INSERT YOUR PATH HERE!]\")\n",
    "\n",
    "Oregdata = pd.read_csv('data/Oregon.csv', sep=',', na_values=\".\")\n",
    "Oregdata.head()"
   ]
  },
  {
   "cell_type": "markdown",
   "metadata": {},
   "source": [
    "### 1)\n",
    "\n",
    "Our dependent variable is the number of doctor visits in the last 6 months (`docvis`). Inspect the data set and generate a frequency table for the outcome variable `docvis` as well as a barplot.\\\n",
    "\\\n",
    "**Hint:** For the frequency table use [`pd.crosstab`](https://pandas.pydata.org/docs/reference/api/pandas.crosstab.html) and for the barplot [`plt.hist`](https://matplotlib.org/stable/api/_as_gen/matplotlib.pyplot.hist.html)."
   ]
  },
  {
   "cell_type": "code",
   "execution_count": null,
   "metadata": {},
   "outputs": [],
   "source": []
  },
  {
   "cell_type": "markdown",
   "metadata": {},
   "source": [
    "### 2) \n",
    "\n",
    "We are interested in estimating an intent-to-treatment effect, i.e. how does *access* to Medicaid increase the number of doctor visits. Thus, our regression model is \n",
    "\n",
    "$$ DOCVIS_i = \\beta_0 + \\beta_1 * TREATMENT_i + X_i'\\beta + \\varepsilon_i,$$\n",
    "\n",
    "where $DOCVIS_i$ is the number of doctor visits, $TREATMENT_i$ is access to health insurance. The controls $X_i$ contain the variables: \n",
    "\n",
    "`dddraw_sur_2 ddddraw_sur_3 ddddraw_sur_4 ddddraw_sur_5 ddddraw_sur_6 ddddraw_sur_7 dddnumhh_li_2 dddnumhh_li_3 ddddraXnum_2_2 ddddraXnum_2_3 ddddraXnum_3_2 ddddraXnum_3_3 ddddraXnum_4_2 ddddraXnum_5_2 ddddraXnum_6_2 ddddraXnum_7_2`\n",
    "\n",
    "The list with column names that we will need to build the data frame is the following:"
   ]
  },
  {
   "cell_type": "code",
   "execution_count": 36,
   "metadata": {},
   "outputs": [],
   "source": [
    "columnnames = ['treatment','ddddraw_sur_2', 'ddddraw_sur_3', 'ddddraw_sur_4',\n",
    "            'ddddraw_sur_5', 'ddddraw_sur_6', 'ddddraw_sur_7', \n",
    "            'dddnumhh_li_2', 'dddnumhh_li_3', 'ddddraXnum_2_2', 'ddddraXnum_2_3',\n",
    "            'ddddraXnum_3_2', 'ddddraXnum_3_3', 'ddddraXnum_4_2',\n",
    "            'ddddraXnum_5_2', 'ddddraXnum_6_2', 'ddddraXnum_7_2']"
   ]
  },
  {
   "cell_type": "markdown",
   "metadata": {},
   "source": [
    "In task 2.2, we build the data frame with the relevant variables and then estimate the regression model above using the package [`statsmodels`](https://www.statsmodels.org/stable/generated/statsmodels.regression.linear_model.OLS.html#statsmodels.regression.linear_model.OLS). Is there a significant effect of $TREATMENT_i$, i.e., access to Medicaid?"
   ]
  },
  {
   "cell_type": "code",
   "execution_count": null,
   "metadata": {},
   "outputs": [],
   "source": []
  },
  {
   "cell_type": "markdown",
   "metadata": {},
   "source": [
    "### 3)\n",
    "\n",
    "Now, we would like to extend the model and include variables on gender, education and race/ethnicity in addition to the regressors from part 2.2\n",
    "\n",
    "`female_list, hhinc_pctfpl_12m, age2008, edu_12m_2, edu_12m_3, edu_12m_4, english_list, zip_msa, race_white_12m, race_black_12m, race_hisp_12m`\n",
    "\n",
    "Does your conclusion from part 2.2 change?\n"
   ]
  },
  {
   "cell_type": "code",
   "execution_count": null,
   "metadata": {
    "scrolled": true
   },
   "outputs": [],
   "source": []
  },
  {
   "cell_type": "markdown",
   "metadata": {},
   "source": [
    "### 4)\n",
    "\n",
    "How would you summarize your results? Are the OLS conditions met in the Oregon Health Example? "
   ]
  }
 ],
 "metadata": {
  "kernelspec": {
   "display_name": "base",
   "language": "python",
   "name": "python3"
  },
  "language_info": {
   "codemirror_mode": {
    "name": "ipython",
    "version": 3
   },
   "file_extension": ".py",
   "mimetype": "text/x-python",
   "name": "python",
   "nbconvert_exporter": "python",
   "pygments_lexer": "ipython3",
   "version": "3.12.7"
  }
 },
 "nbformat": 4,
 "nbformat_minor": 4
}
