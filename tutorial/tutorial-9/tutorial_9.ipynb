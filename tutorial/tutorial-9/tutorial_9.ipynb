{
  "cells": [
    {
      "cell_type": "markdown",
      "metadata": {},
      "source": [
        "---\n",
        "title: \"Topics in Econometrics and Data Science: Tutorial 8\"\n",
        "\n",
        "---\n",
        "\n",
        "#### General Note\n",
        "\n",
        "You will very likely find the solution to these exercises online. We, however, strongly encourage you to work on these exercises without doing so. Understanding someone else’s solution is very different from coming up with your own. Use the lecture notes and try to solve the exercises independently."
      ]
    },
    {
      "cell_type": "markdown",
      "metadata": {},
      "source": [
        "## Exercise 1: Logistic Regression\n",
        "\n",
        "Load the `classification_1` dataset. The data consist of two features and a classification variable.\n",
        "\n",
        "### **A)** \n",
        "How many different classes are contained in the dataset? (Hint: `help(pd.unique)`)"
      ]
    },
    {
      "cell_type": "code",
      "execution_count": 1,
      "metadata": {
        "scrolled": true
      },
      "outputs": [],
      "source": [
        "import pandas as pd\n",
        "import numpy as np\n",
        "data = pd.read_csv('../../data/classification_1.csv', sep=';', na_values=\".\")"
      ]
    },
    {
      "cell_type": "markdown",
      "metadata": {},
      "source": [
        "### **B)**\n",
        "Use logistic regression to separate both classes and measure the error rate on the training set. \n",
        "Follow these steps:\n",
        "\n",
        "1. *Preprocessing*: Select X columns `length` and `height` and save as numpy array using the attribute `values`. Select Y column `class`, save as numpy array. and `flatten` into one-dimensional array.\n",
        "\n",
        "2. *Logistic Regression*: Use [`linear_model.LogisticRegression`](https://scikit-learn.org/stable/modules/generated/sklearn.linear_model.LogisticRegression.html) to create a logistic regression classifier with specific parameters `penalty` and `solver`.\n",
        "\n",
        "3. *Train model*: Learn the coefficients that best separate the classes using [`.fit()`](https://scikit-learn.org/stable/modules/generated/sklearn.linear_model.LogisticRegression.html#sklearn.linear_model.LogisticRegression.fit).\n",
        "\n",
        "4. *Predict class*: Use the trained model to make predictions on X with [`.predict()`](https://scikit-learn.org/stable/modules/generated/sklearn.linear_model.LogisticRegression.html#sklearn.linear_model.LogisticRegression.predict) and return predicted class labels for each input sample.\n",
        "\n",
        "5. *Error rate*: Calculate the misclassification rate of the model."
      ]
    },
    {
      "cell_type": "code",
      "execution_count": null,
      "metadata": {},
      "outputs": [],
      "source": [
        "from sklearn.linear_model import LogisticRegression"
      ]
    },
    {
      "cell_type": "markdown",
      "metadata": {},
      "source": [
        "### **C)** \n",
        "Visualize the data with [`matplotlib`](https://matplotlib.org/). "
      ]
    },
    {
      "cell_type": "code",
      "execution_count": 44,
      "metadata": {},
      "outputs": [],
      "source": [
        "import matplotlib.pyplot as plt\n",
        "from matplotlib.colors import ListedColormap\n",
        "import matplotlib.patches as mpatches\n",
        "\n",
        "# Plot configuration\n",
        "plot_symbol_size = 50\n",
        "cmap_bold  = ListedColormap(['#FF0000', '#0000FF'])"
      ]
    },
    {
      "cell_type": "markdown",
      "metadata": {},
      "source": [
        "1. Create a basic scatter plot using just the `length` and `height` features."
      ]
    },
    {
      "cell_type": "code",
      "execution_count": null,
      "metadata": {},
      "outputs": [],
      "source": []
    },
    {
      "cell_type": "markdown",
      "metadata": {},
      "source": [
        "2. Add `class` to define colors of the scatterplot. Use the ListedColormap with red and blue colors to distinguish between your two classes."
      ]
    },
    {
      "cell_type": "code",
      "execution_count": null,
      "metadata": {},
      "outputs": [],
      "source": []
    },
    {
      "cell_type": "markdown",
      "metadata": {},
      "source": [
        "3. Add a legend by creating red and blue patches with [`mpatches.Patch`](https://matplotlib.org/stable/api/_as_gen/matplotlib.patches.Patch.html) that explain which color corresponds to which class (Y=0 or Y=1)."
      ]
    },
    {
      "cell_type": "code",
      "execution_count": null,
      "metadata": {
        "scrolled": true
      },
      "outputs": [],
      "source": []
    },
    {
      "cell_type": "markdown",
      "metadata": {},
      "source": [
        "### **D)**\n",
        "Can you explain the results from the logistic regression? Color the regions of the plot according to their predictions."
      ]
    },
    {
      "cell_type": "markdown",
      "metadata": {},
      "source": [
        "1. Create two color maps: one bold (for actual points) and one light (for decision boundary background)."
      ]
    },
    {
      "cell_type": "code",
      "execution_count": 2,
      "metadata": {},
      "outputs": [],
      "source": [
        "import matplotlib.cm as cm\n",
        "from matplotlib.colors import ListedColormap, BoundaryNorm\n",
        "import matplotlib.patches as mpatches"
      ]
    },
    {
      "cell_type": "markdown",
      "metadata": {},
      "source": [
        "2. Calculate the mesh grid for the decision boundary by finding min/max values of the features and creating a fine mesh grid with step size 0.01 using [`np.meshgrid`](https://numpy.org/doc/stable/reference/generated/numpy.meshgrid.html).\\\n",
        "**Hint**: `xx, yy = np.meshgrid(np.arange(x_min, x_max, stepsize), np.arange(y_min, y_max, stepsize))`"
      ]
    },
    {
      "cell_type": "code",
      "execution_count": 62,
      "metadata": {},
      "outputs": [],
      "source": []
    },
    {
      "cell_type": "markdown",
      "metadata": {},
      "source": [
        "3. Use your trained model to predict classes for each point in the mesh grid using `.predict()` on your model from **B)**.\\\n",
        "**Hint**: Use `np.c_[xx.ravel(), yy.ravel()]` to pass arrays in the right shape to the `.predict()` function, where `xx`and `yy` are the 2D arrays created by `np.meshgrid`."
      ]
    },
    {
      "cell_type": "code",
      "execution_count": 61,
      "metadata": {},
      "outputs": [],
      "source": []
    },
    {
      "cell_type": "markdown",
      "metadata": {},
      "source": [
        "4. Plot the decision boundary visualization by using [`pcolormesh`](https://matplotlib.org/stable/api/_as_gen/matplotlib.pyplot.pcolormesh.html#matplotlib.pyplot.pcolormesh) to create the colored background."
      ]
    },
    {
      "cell_type": "code",
      "execution_count": null,
      "metadata": {},
      "outputs": [],
      "source": []
    },
    {
      "cell_type": "markdown",
      "metadata": {},
      "source": [
        "5. Add the actual data points on top using a scatter plot."
      ]
    },
    {
      "cell_type": "code",
      "execution_count": null,
      "metadata": {},
      "outputs": [],
      "source": []
    },
    {
      "cell_type": "markdown",
      "metadata": {},
      "source": [
        "6. Set the plot limits to match the mesh grid, add legend, labels, and create a title that includes the model parameters."
      ]
    },
    {
      "cell_type": "code",
      "execution_count": null,
      "metadata": {},
      "outputs": [],
      "source": []
    },
    {
      "cell_type": "markdown",
      "metadata": {},
      "source": [
        "### **E)** \n",
        "Which method could be better suited for this task? Try to improve on the error rate."
      ]
    },
    {
      "cell_type": "code",
      "execution_count": null,
      "metadata": {},
      "outputs": [],
      "source": [
        "from sklearn import svm"
      ]
    },
    {
      "cell_type": "markdown",
      "metadata": {},
      "source": [
        "Plot your classifier again. You only need to exchange the model used for predictions in the code."
      ]
    },
    {
      "cell_type": "code",
      "execution_count": null,
      "metadata": {},
      "outputs": [],
      "source": [
        "import matplotlib.cm as cm\n",
        "from matplotlib.colors import ListedColormap, BoundaryNorm\n",
        "import matplotlib.patches as mpatches"
      ]
    }
  ],
  "metadata": {
    "kernelspec": {
      "display_name": "base",
      "language": "python",
      "name": "python3"
    },
    "language_info": {
      "codemirror_mode": {
        "name": "ipython",
        "version": 3
      },
      "file_extension": ".py",
      "mimetype": "text/x-python",
      "name": "python",
      "nbconvert_exporter": "python",
      "pygments_lexer": "ipython3",
      "version": "3.12.4"
    }
  },
  "nbformat": 4,
  "nbformat_minor": 4
}
